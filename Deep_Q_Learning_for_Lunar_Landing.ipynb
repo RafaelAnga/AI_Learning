{
  "cells": [
    {
      "cell_type": "markdown",
      "metadata": {
        "id": "view-in-github",
        "colab_type": "text"
      },
      "source": [
        "<a href=\"https://colab.research.google.com/github/RafaelAnga/AI_Learning/blob/main/Deep_Q_Learning_for_Lunar_Landing.ipynb\" target=\"_parent\"><img src=\"https://colab.research.google.com/assets/colab-badge.svg\" alt=\"Open In Colab\"/></a>"
      ]
    },
    {
      "cell_type": "markdown",
      "metadata": {
        "id": "LbZcI9ZXHl3a"
      },
      "source": [
        "# Deep Q-Learning for Lunar Landing"
      ]
    },
    {
      "cell_type": "markdown",
      "metadata": {
        "id": "E8yPRjteXgPb"
      },
      "source": [
        "## Part 0 - Installing the required packages and importing the libraries"
      ]
    },
    {
      "cell_type": "markdown",
      "metadata": {
        "id": "slEm5teGWjWU"
      },
      "source": [
        "### Installing Gymnasium"
      ]
    },
    {
      "cell_type": "code",
      "execution_count": 1,
      "metadata": {
        "id": "dbnq3XpoKa_7",
        "colab": {
          "base_uri": "https://localhost:8080/"
        },
        "outputId": "842f1ecd-2b49-4982-be08-0e4efaa7d03b"
      },
      "outputs": [
        {
          "output_type": "stream",
          "name": "stdout",
          "text": [
            "Collecting gymnasium\n",
            "  Downloading gymnasium-1.0.0-py3-none-any.whl.metadata (9.5 kB)\n",
            "Requirement already satisfied: numpy>=1.21.0 in /usr/local/lib/python3.10/dist-packages (from gymnasium) (1.26.4)\n",
            "Requirement already satisfied: cloudpickle>=1.2.0 in /usr/local/lib/python3.10/dist-packages (from gymnasium) (3.1.0)\n",
            "Requirement already satisfied: typing-extensions>=4.3.0 in /usr/local/lib/python3.10/dist-packages (from gymnasium) (4.12.2)\n",
            "Collecting farama-notifications>=0.0.1 (from gymnasium)\n",
            "  Downloading Farama_Notifications-0.0.4-py3-none-any.whl.metadata (558 bytes)\n",
            "Downloading gymnasium-1.0.0-py3-none-any.whl (958 kB)\n",
            "\u001b[2K   \u001b[90m━━━━━━━━━━━━━━━━━━━━━━━━━━━━━━━━━━━━━━━━\u001b[0m \u001b[32m958.1/958.1 kB\u001b[0m \u001b[31m15.1 MB/s\u001b[0m eta \u001b[36m0:00:00\u001b[0m\n",
            "\u001b[?25hDownloading Farama_Notifications-0.0.4-py3-none-any.whl (2.5 kB)\n",
            "Installing collected packages: farama-notifications, gymnasium\n",
            "Successfully installed farama-notifications-0.0.4 gymnasium-1.0.0\n",
            "Requirement already satisfied: gymnasium[accept-rom-license,atari] in /usr/local/lib/python3.10/dist-packages (1.0.0)\n",
            "\u001b[33mWARNING: gymnasium 1.0.0 does not provide the extra 'accept-rom-license'\u001b[0m\u001b[33m\n",
            "\u001b[0mRequirement already satisfied: numpy>=1.21.0 in /usr/local/lib/python3.10/dist-packages (from gymnasium[accept-rom-license,atari]) (1.26.4)\n",
            "Requirement already satisfied: cloudpickle>=1.2.0 in /usr/local/lib/python3.10/dist-packages (from gymnasium[accept-rom-license,atari]) (3.1.0)\n",
            "Requirement already satisfied: typing-extensions>=4.3.0 in /usr/local/lib/python3.10/dist-packages (from gymnasium[accept-rom-license,atari]) (4.12.2)\n",
            "Requirement already satisfied: farama-notifications>=0.0.1 in /usr/local/lib/python3.10/dist-packages (from gymnasium[accept-rom-license,atari]) (0.0.4)\n",
            "Collecting ale-py>=0.9 (from gymnasium[accept-rom-license,atari])\n",
            "  Downloading ale_py-0.10.1-cp310-cp310-manylinux_2_17_x86_64.manylinux2014_x86_64.whl.metadata (7.6 kB)\n",
            "Downloading ale_py-0.10.1-cp310-cp310-manylinux_2_17_x86_64.manylinux2014_x86_64.whl (2.1 MB)\n",
            "\u001b[2K   \u001b[90m━━━━━━━━━━━━━━━━━━━━━━━━━━━━━━━━━━━━━━━━\u001b[0m \u001b[32m2.1/2.1 MB\u001b[0m \u001b[31m18.7 MB/s\u001b[0m eta \u001b[36m0:00:00\u001b[0m\n",
            "\u001b[?25hInstalling collected packages: ale-py\n",
            "Successfully installed ale-py-0.10.1\n",
            "Reading package lists... Done\n",
            "Building dependency tree... Done\n",
            "Reading state information... Done\n",
            "The following additional packages will be installed:\n",
            "  swig4.0\n",
            "Suggested packages:\n",
            "  swig-doc swig-examples swig4.0-examples swig4.0-doc\n",
            "The following NEW packages will be installed:\n",
            "  swig swig4.0\n",
            "0 upgraded, 2 newly installed, 0 to remove and 49 not upgraded.\n",
            "Need to get 1,116 kB of archives.\n",
            "After this operation, 5,542 kB of additional disk space will be used.\n",
            "Get:1 http://archive.ubuntu.com/ubuntu jammy/universe amd64 swig4.0 amd64 4.0.2-1ubuntu1 [1,110 kB]\n",
            "Get:2 http://archive.ubuntu.com/ubuntu jammy/universe amd64 swig all 4.0.2-1ubuntu1 [5,632 B]\n",
            "Fetched 1,116 kB in 1s (1,548 kB/s)\n",
            "Selecting previously unselected package swig4.0.\n",
            "(Reading database ... 123634 files and directories currently installed.)\n",
            "Preparing to unpack .../swig4.0_4.0.2-1ubuntu1_amd64.deb ...\n",
            "Unpacking swig4.0 (4.0.2-1ubuntu1) ...\n",
            "Selecting previously unselected package swig.\n",
            "Preparing to unpack .../swig_4.0.2-1ubuntu1_all.deb ...\n",
            "Unpacking swig (4.0.2-1ubuntu1) ...\n",
            "Setting up swig4.0 (4.0.2-1ubuntu1) ...\n",
            "Setting up swig (4.0.2-1ubuntu1) ...\n",
            "Processing triggers for man-db (2.10.2-1) ...\n",
            "Requirement already satisfied: gymnasium[box2d] in /usr/local/lib/python3.10/dist-packages (1.0.0)\n",
            "Requirement already satisfied: numpy>=1.21.0 in /usr/local/lib/python3.10/dist-packages (from gymnasium[box2d]) (1.26.4)\n",
            "Requirement already satisfied: cloudpickle>=1.2.0 in /usr/local/lib/python3.10/dist-packages (from gymnasium[box2d]) (3.1.0)\n",
            "Requirement already satisfied: typing-extensions>=4.3.0 in /usr/local/lib/python3.10/dist-packages (from gymnasium[box2d]) (4.12.2)\n",
            "Requirement already satisfied: farama-notifications>=0.0.1 in /usr/local/lib/python3.10/dist-packages (from gymnasium[box2d]) (0.0.4)\n",
            "Collecting box2d-py==2.3.5 (from gymnasium[box2d])\n",
            "  Downloading box2d-py-2.3.5.tar.gz (374 kB)\n",
            "\u001b[2K     \u001b[90m━━━━━━━━━━━━━━━━━━━━━━━━━━━━━━━━━━━━━━━━\u001b[0m \u001b[32m374.4/374.4 kB\u001b[0m \u001b[31m10.0 MB/s\u001b[0m eta \u001b[36m0:00:00\u001b[0m\n",
            "\u001b[?25h  Preparing metadata (setup.py) ... \u001b[?25l\u001b[?25hdone\n",
            "Requirement already satisfied: pygame>=2.1.3 in /usr/local/lib/python3.10/dist-packages (from gymnasium[box2d]) (2.6.1)\n",
            "Collecting swig==4.* (from gymnasium[box2d])\n",
            "  Downloading swig-4.3.0-py2.py3-none-manylinux_2_5_x86_64.manylinux1_x86_64.whl.metadata (3.5 kB)\n",
            "Downloading swig-4.3.0-py2.py3-none-manylinux_2_5_x86_64.manylinux1_x86_64.whl (1.9 MB)\n",
            "\u001b[2K   \u001b[90m━━━━━━━━━━━━━━━━━━━━━━━━━━━━━━━━━━━━━━━━\u001b[0m \u001b[32m1.9/1.9 MB\u001b[0m \u001b[31m58.3 MB/s\u001b[0m eta \u001b[36m0:00:00\u001b[0m\n",
            "\u001b[?25hBuilding wheels for collected packages: box2d-py\n",
            "  Building wheel for box2d-py (setup.py) ... \u001b[?25l\u001b[?25hdone\n",
            "  Created wheel for box2d-py: filename=box2d_py-2.3.5-cp310-cp310-linux_x86_64.whl size=2349115 sha256=d362fcce53c9cdc4075dbfa176b38b2b5580d527474f6b35a669b74cc9fde739\n",
            "  Stored in directory: /root/.cache/pip/wheels/db/8f/6a/eaaadf056fba10a98d986f6dce954e6201ba3126926fc5ad9e\n",
            "Successfully built box2d-py\n",
            "Installing collected packages: swig, box2d-py\n",
            "Successfully installed box2d-py-2.3.5 swig-4.3.0\n"
          ]
        }
      ],
      "source": [
        "!pip install gymnasium\n",
        "!pip install \"gymnasium[atari, accept-rom-license]\"\n",
        "!apt-get install -y swig\n",
        "!pip install gymnasium[box2d]"
      ]
    },
    {
      "cell_type": "markdown",
      "metadata": {
        "id": "brqiMN3UW9T9"
      },
      "source": [
        "### Importing the libraries"
      ]
    },
    {
      "cell_type": "code",
      "execution_count": 2,
      "metadata": {
        "id": "mZaKXP_aMl9O"
      },
      "outputs": [],
      "source": [
        "import os\n",
        "import random\n",
        "import numpy as np\n",
        "import torch\n",
        "import torch.nn as nn\n",
        "import torch.optim as optim\n",
        "import torch.nn.functional as F\n",
        "import torch.autograd as autograd\n",
        "from torch.autograd import Variable\n",
        "from collections import deque, namedtuple"
      ]
    },
    {
      "cell_type": "markdown",
      "metadata": {
        "id": "EzlDKXvkXzGI"
      },
      "source": [
        "## Part 1 - Building the AI"
      ]
    },
    {
      "cell_type": "markdown",
      "metadata": {
        "id": "UtG6Zc83YYy3"
      },
      "source": [
        "### Creating the architecture of the Neural Network"
      ]
    },
    {
      "cell_type": "code",
      "source": [
        "class Network(nn.Module):\n",
        "  def __init__(self, state_size, action_size, seed = 42):\n",
        "      super(Network, self).__init__()\n",
        "      self.seed = torch.manual_seed(seed)\n",
        "      self.fc1 = nn.Linear(state_size, 64)\n",
        "      self.fc2 = nn.Linear(64, 64)\n",
        "      self.fc3 = nn.Linear(64, action_size)\n",
        "\n",
        "  def forward(self, state):\n",
        "      x = self.fc1(state)\n",
        "      x = F.relu(x)\n",
        "      x = self.fc2(x)\n",
        "      x = F.relu(x)\n",
        "      return self.fc3(x)"
      ],
      "metadata": {
        "id": "QWnG7UD6vPZ0"
      },
      "execution_count": 3,
      "outputs": []
    },
    {
      "cell_type": "markdown",
      "metadata": {
        "id": "UxVrBnFWZKb1"
      },
      "source": [
        "## Part 2 - Training the AI"
      ]
    },
    {
      "cell_type": "markdown",
      "metadata": {
        "id": "T364fz9qZb2j"
      },
      "source": [
        "### Setting up the environment"
      ]
    },
    {
      "cell_type": "code",
      "source": [
        "import gymnasium as gym\n",
        "env = gym.make('LunarLander-v3')\n",
        "state_shape = env.observation_space.shape\n",
        "state_size = env.observation_space.shape[0]\n",
        "number_actions = env.action_space.n\n",
        "print('State shape: ', state_shape)\n",
        "print('State size: ', state_size)\n",
        "print('Number of actions: ', number_actions)"
      ],
      "metadata": {
        "id": "41sgnpCwtd5f",
        "colab": {
          "base_uri": "https://localhost:8080/"
        },
        "outputId": "0aade2e5-239e-4403-d524-89b516f0fd02"
      },
      "execution_count": 4,
      "outputs": [
        {
          "output_type": "stream",
          "name": "stdout",
          "text": [
            "State shape:  (8,)\n",
            "State size:  8\n",
            "Number of actions:  4\n"
          ]
        }
      ]
    },
    {
      "cell_type": "markdown",
      "metadata": {
        "id": "c_dZmOIvZgj-"
      },
      "source": [
        "### Initializing the hyperparameters"
      ]
    },
    {
      "cell_type": "code",
      "source": [
        "learning_rate = 5e-4\n",
        "minibatch_size = 100\n",
        "discount_factor = 0.99\n",
        "replay_buffer_size = int(1e5)\n",
        "interpolation_parameter = 1e-3"
      ],
      "metadata": {
        "id": "VT7OQ4SR08Ph"
      },
      "execution_count": 5,
      "outputs": []
    },
    {
      "cell_type": "markdown",
      "metadata": {
        "id": "8hD_Vs-bYnip"
      },
      "source": [
        "### Implementing Experience Replay"
      ]
    },
    {
      "cell_type": "code",
      "source": [
        "class ReplayMemory(object):\n",
        "\n",
        "  def __init__(self,capacity):\n",
        "    self.device = torch.device(\"cuda:0\" if torch.cuda.is_available() else \"cpu\")\n",
        "    self.capacity = capacity\n",
        "    self.memory = []\n",
        "\n",
        "  def push(self, event):\n",
        "    self.memory.append(event)\n",
        "    if len(self.memory) > self.capacity:\n",
        "      del self.memory[0]\n",
        "\n",
        "  def sample(self, batch_size):\n",
        "    experiences = random.sample(self.memory, k = batch_size)\n",
        "    states = torch.from_numpy(np.vstack([e[0] for e in experiences if e is not None])).float().to(self.device)\n",
        "    actions = torch.from_numpy(np.vstack([e[1] for e in experiences if e is not None])).long().to(self.device)\n",
        "    rewards = torch.from_numpy(np.vstack([e[2] for e in experiences if e is not None])).float().to(self.device)\n",
        "    next_states = torch.from_numpy(np.vstack([e[3] for e in experiences if e is not None])).float().to(self.device)\n",
        "    dones = torch.from_numpy(np.vstack([e[4] for e in experiences if e is not None]).astype(np.uint8)).float().to(self.device)\n",
        "    return states, next_states, actions, rewards, dones"
      ],
      "metadata": {
        "id": "jbcXy-WZ2YZI"
      },
      "execution_count": 19,
      "outputs": []
    },
    {
      "cell_type": "markdown",
      "metadata": {
        "id": "JmEkbFbUY6Jt"
      },
      "source": [
        "### Implementing the DQN class"
      ]
    },
    {
      "cell_type": "code",
      "source": [
        "class Agent():\n",
        "  def __init__(self, state_size,action_size):\n",
        "    self.device = torch.device(\"cuda:0\" if torch.cuda.is_available() else \"cpu\")\n",
        "    self.state_size = state_size\n",
        "    self.action_size = action_size\n",
        "    self.local_qnetwork = Network(state_size, action_size).to(self.device)\n",
        "    self.target_qnetwork = Network(state_size, action_size).to(self.device)\n",
        "    self.optimizer = optim.Adam(self.local_qnetwork.parameters(), lr = learning_rate)\n",
        "    self.memory = ReplayMemory(replay_buffer_size)\n",
        "    self.t_step = 0\n",
        "\n",
        "  def step(self, state, action, reward, next_state, done):\n",
        "    self.memory.push((state, action, reward, next_state, done))\n",
        "    self.t_step = (self.t_step + 1) % 4\n",
        "    if self.t_step == 0:\n",
        "      if len(self.memory.memory) > minibatch_size:\n",
        "        experiences = self.memory.sample(100)\n",
        "        self.learn(experiences, discount_factor)\n",
        "\n",
        "  def act(self, state, epsilon = 0.):\n",
        "    state = torch.from_numpy(state).float().unsqueeze(0).to(self.device)\n",
        "    self.local_qnetwork.eval()\n",
        "    with torch.no_grad():\n",
        "      action_values = self.local_qnetwork(state)\n",
        "    self.local_qnetwork.train()\n",
        "    if random.random() > epsilon:\n",
        "      return np.argmax(action_values.cpu().data.numpy())\n",
        "    else:\n",
        "      return random.choice(np.arange(self.action_size))\n",
        "\n",
        "  def learn(self, experiences, discount_factor):\n",
        "    states, next_states, actions, rewards, dones = experiences\n",
        "    next_q_targets = self.target_qnetwork(next_states).detach().max(1)[0].unsqueeze(1)\n",
        "    q_targets = rewards + (discount_factor * next_q_targets * (1-dones))\n",
        "    q_expected = self.local_qnetwork(states).gather(1, actions)\n",
        "    loss = F.mse_loss(q_expected, q_targets)\n",
        "    self.optimizer.zero_grad()\n",
        "    loss.backward()\n",
        "    self.optimizer.step()\n",
        "    self.soft_update(self.local_qnetwork, self.target_qnetwork, interpolation_parameter)\n",
        "\n",
        "  def soft_update(self, local_model, target_model, interpolation_parameter):\n",
        "    for target_param, local_param in zip(target_model.parameters(), local_model.parameters()):\n",
        "      target_param.data.copy_(interpolation_parameter * local_param.data + (1.0 - interpolation_parameter) * target_param.data)"
      ],
      "metadata": {
        "id": "b2YKNAfxLKbC"
      },
      "execution_count": 21,
      "outputs": []
    },
    {
      "cell_type": "markdown",
      "metadata": {
        "id": "o1tZElccZmf6"
      },
      "source": [
        "### Initializing the DQN agent"
      ]
    },
    {
      "cell_type": "code",
      "source": [
        "agent = Agent(state_size, number_actions)"
      ],
      "metadata": {
        "id": "K__A0V0W7Y3K"
      },
      "execution_count": 22,
      "outputs": []
    },
    {
      "cell_type": "markdown",
      "metadata": {
        "id": "E8v0PtUfaVQp"
      },
      "source": [
        "### Training the DQN agent"
      ]
    },
    {
      "cell_type": "code",
      "source": [
        "number_episodes = 2000\n",
        "maximum_number_timesteps_per_episode = 1000\n",
        "epsilon_starting_value = 1.0\n",
        "epsilon_ending_value = 0.01\n",
        "epsilon_decay_value = 0.995\n",
        "epsilon = epsilon_starting_value\n",
        "scores_on_episodes = deque(maxlen= 100)\n",
        "\n",
        "for episode in range(1,number_episodes + 1):\n",
        "  state, _ = env.reset()\n",
        "  score = 0\n",
        "  for t in range(maximum_number_timesteps_per_episode):\n",
        "    action = agent.act(state, epsilon)\n",
        "    next_state, reward, done, _, _ = env.step(action)\n",
        "    agent.step(state, action, reward, next_state, done)\n",
        "    state = next_state\n",
        "    score += reward\n",
        "    if done:\n",
        "      break\n",
        "  scores_on_episodes.append(score)\n",
        "  epsilon = max(epsilon_ending_value, epsilon_decay_value * epsilon)\n",
        "\n",
        "  print('\\rEpisode {}\\tAverage Score: {:.2f}'.format(episode, np.mean(scores_on_episodes)), end=\"\")\n",
        "  if episode %100 == 0:\n",
        "    print('\\rEpisode {}\\tAverage Score: {:.2f}'.format(episode, np.mean(scores_on_episodes)))\n",
        "  if np.mean(scores_on_episodes) >= 200.0:\n",
        "    print('\\nEnvironment solved in {:d} episodes!\\tAverage Score: {:.2f}'.format(episode -100, np.mean(scores_on_episodes)))\n",
        "    torch.save(agent.local_qnetwork.state_dict(), 'checkpoint.pth')\n",
        "    break"
      ],
      "metadata": {
        "colab": {
          "base_uri": "https://localhost:8080/"
        },
        "id": "4d_YnaFt7bbr",
        "outputId": "9b493ae4-fdf6-433f-d654-a468ee0b1648"
      },
      "execution_count": 23,
      "outputs": [
        {
          "output_type": "stream",
          "name": "stdout",
          "text": [
            "Episode 100\tAverage Score: -142.85\n",
            "Episode 200\tAverage Score: -108.94\n",
            "Episode 300\tAverage Score: -61.29\n",
            "Episode 400\tAverage Score: -32.71\n",
            "Episode 500\tAverage Score: 37.74\n",
            "Episode 600\tAverage Score: 135.53\n",
            "Episode 700\tAverage Score: 186.86\n",
            "Episode 796\tAverage Score: 200.11\n",
            "Environment solved in 696 episodes!\tAverage Score: 200.11\n"
          ]
        }
      ]
    },
    {
      "cell_type": "markdown",
      "metadata": {
        "id": "O8CNwdOTcCoP"
      },
      "source": [
        "## Part 3 - Visualizing the results"
      ]
    },
    {
      "cell_type": "code",
      "execution_count": 24,
      "metadata": {
        "id": "cb9nVvU2Okhk",
        "colab": {
          "base_uri": "https://localhost:8080/",
          "height": 459
        },
        "outputId": "b36bcff0-62bc-4582-d5ac-29d997b1149d"
      },
      "outputs": [
        {
          "output_type": "stream",
          "name": "stderr",
          "text": [
            "WARNING:imageio_ffmpeg:IMAGEIO FFMPEG_WRITER WARNING: input image is not divisible by macro_block_size=16, resizing from (600, 400) to (608, 400) to ensure video compatibility with most codecs and players. To prevent resizing, make your input image divisible by the macro_block_size or set the macro_block_size to 1 (risking incompatibility).\n"
          ]
        },
        {
          "output_type": "display_data",
          "data": {
            "text/plain": [
              "<IPython.core.display.HTML object>"
            ],
            "text/html": [
              "<video alt=\"test\" autoplay\n",
              "                loop controls style=\"height: 400px;\">\n",
              "                <source src=\"data:video/mp4;base64,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\" type=\"video/mp4\" />\n",
              "             </video>"
            ]
          },
          "metadata": {}
        }
      ],
      "source": [
        "import glob\n",
        "import io\n",
        "import base64\n",
        "import imageio\n",
        "from IPython.display import HTML, display\n",
        "\n",
        "def show_video_of_model(agent, env_name):\n",
        "    env = gym.make(env_name, render_mode='rgb_array')\n",
        "    state, _ = env.reset()\n",
        "    done = False\n",
        "    frames = []\n",
        "    while not done:\n",
        "        frame = env.render()\n",
        "        frames.append(frame)\n",
        "        action = agent.act(state)\n",
        "        state, reward, done, _, _ = env.step(action.item())\n",
        "    env.close()\n",
        "    imageio.mimsave('video.mp4', frames, fps=30)\n",
        "\n",
        "show_video_of_model(agent, 'LunarLander-v3')\n",
        "\n",
        "def show_video():\n",
        "    mp4list = glob.glob('*.mp4')\n",
        "    if len(mp4list) > 0:\n",
        "        mp4 = mp4list[0]\n",
        "        video = io.open(mp4, 'r+b').read()\n",
        "        encoded = base64.b64encode(video)\n",
        "        display(HTML(data='''<video alt=\"test\" autoplay\n",
        "                loop controls style=\"height: 400px;\">\n",
        "                <source src=\"data:video/mp4;base64,{0}\" type=\"video/mp4\" />\n",
        "             </video>'''.format(encoded.decode('ascii'))))\n",
        "    else:\n",
        "        print(\"Could not find video\")\n",
        "\n",
        "show_video()"
      ]
    }
  ],
  "metadata": {
    "colab": {
      "provenance": [],
      "gpuType": "T4",
      "include_colab_link": true
    },
    "kernelspec": {
      "display_name": "Python 3",
      "name": "python3"
    },
    "language_info": {
      "name": "python"
    },
    "accelerator": "GPU"
  },
  "nbformat": 4,
  "nbformat_minor": 0
}